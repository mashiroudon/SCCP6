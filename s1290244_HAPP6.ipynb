{
  "nbformat": 4,
  "nbformat_minor": 0,
  "metadata": {
    "colab": {
      "provenance": [],
      "collapsed_sections": [],
      "authorship_tag": "ABX9TyOv7WVxYwYdQ90i0ziKYaVF"
    },
    "kernelspec": {
      "name": "python3",
      "display_name": "Python 3"
    },
    "language_info": {
      "name": "python"
    }
  },
  "cells": [
    {
      "cell_type": "code",
      "execution_count": 1,
      "metadata": {
        "colab": {
          "base_uri": "https://localhost:8080/"
        },
        "id": "vsrgu_6uYDJ1",
        "outputId": "de012c0c-f954-4da4-886b-12d28dd6d0b2"
      },
      "outputs": [
        {
          "output_type": "stream",
          "name": "stdout",
          "text": [
            "dict_keys(['data', 'target', 'frame', 'target_names', 'DESCR', 'feature_names', 'filename', 'data_module'])\n"
          ]
        }
      ],
      "source": [
        "import pandas as pd\n",
        "from sklearn.datasets import load_breast_cancer\n",
        "\n",
        "cancer=load_breast_cancer()\n",
        "print(cancer.keys())"
      ]
    },
    {
      "cell_type": "code",
      "source": [
        "df_feat=pd.DataFrame(cancer['data'], columns=cancer['feature_names'])\n",
        "df_target=pd.DataFrame(cancer['target'], columns=['Cancer'])\n",
        "\n",
        "print('Feature Variables:')\n",
        "print(df_feat.info())"
      ],
      "metadata": {
        "colab": {
          "base_uri": "https://localhost:8080/"
        },
        "id": "GNMetKGoYcth",
        "outputId": "2a03b39a-7664-4b5a-e1e1-ff6b3e3982d8"
      },
      "execution_count": 2,
      "outputs": [
        {
          "output_type": "stream",
          "name": "stdout",
          "text": [
            "Feature Variables:\n",
            "<class 'pandas.core.frame.DataFrame'>\n",
            "RangeIndex: 569 entries, 0 to 568\n",
            "Data columns (total 30 columns):\n",
            " #   Column                   Non-Null Count  Dtype  \n",
            "---  ------                   --------------  -----  \n",
            " 0   mean radius              569 non-null    float64\n",
            " 1   mean texture             569 non-null    float64\n",
            " 2   mean perimeter           569 non-null    float64\n",
            " 3   mean area                569 non-null    float64\n",
            " 4   mean smoothness          569 non-null    float64\n",
            " 5   mean compactness         569 non-null    float64\n",
            " 6   mean concavity           569 non-null    float64\n",
            " 7   mean concave points      569 non-null    float64\n",
            " 8   mean symmetry            569 non-null    float64\n",
            " 9   mean fractal dimension   569 non-null    float64\n",
            " 10  radius error             569 non-null    float64\n",
            " 11  texture error            569 non-null    float64\n",
            " 12  perimeter error          569 non-null    float64\n",
            " 13  area error               569 non-null    float64\n",
            " 14  smoothness error         569 non-null    float64\n",
            " 15  compactness error        569 non-null    float64\n",
            " 16  concavity error          569 non-null    float64\n",
            " 17  concave points error     569 non-null    float64\n",
            " 18  symmetry error           569 non-null    float64\n",
            " 19  fractal dimension error  569 non-null    float64\n",
            " 20  worst radius             569 non-null    float64\n",
            " 21  worst texture            569 non-null    float64\n",
            " 22  worst perimeter          569 non-null    float64\n",
            " 23  worst area               569 non-null    float64\n",
            " 24  worst smoothness         569 non-null    float64\n",
            " 25  worst compactness        569 non-null    float64\n",
            " 26  worst concavity          569 non-null    float64\n",
            " 27  worst concave points     569 non-null    float64\n",
            " 28  worst symmetry           569 non-null    float64\n",
            " 29  worst fractal dimension  569 non-null    float64\n",
            "dtypes: float64(30)\n",
            "memory usage: 133.5 KB\n",
            "None\n"
          ]
        }
      ]
    },
    {
      "cell_type": "code",
      "source": [
        "print('Target Variable:')\n",
        "print(df_target.info())"
      ],
      "metadata": {
        "colab": {
          "base_uri": "https://localhost:8080/"
        },
        "id": "5l6CprPcZ31h",
        "outputId": "1ecd3094-a889-450e-927b-bb7fd511a40e"
      },
      "execution_count": null,
      "outputs": [
        {
          "output_type": "stream",
          "name": "stdout",
          "text": [
            "Target Variable:\n",
            "<class 'pandas.core.frame.DataFrame'>\n",
            "RangeIndex: 569 entries, 0 to 568\n",
            "Data columns (total 1 columns):\n",
            " #   Column  Non-Null Count  Dtype\n",
            "---  ------  --------------  -----\n",
            " 0   Cancer  569 non-null    int64\n",
            "dtypes: int64(1)\n",
            "memory usage: 4.6 KB\n",
            "None\n"
          ]
        }
      ]
    },
    {
      "cell_type": "code",
      "source": [
        "print('Dataframe looks like:')\n",
        "print(df_feat.head())"
      ],
      "metadata": {
        "colab": {
          "base_uri": "https://localhost:8080/"
        },
        "id": "2qGo6LlFaVRW",
        "outputId": "ea4dc4da-ecf2-4c78-dd8e-d981a74c328f"
      },
      "execution_count": null,
      "outputs": [
        {
          "output_type": "stream",
          "name": "stdout",
          "text": [
            "Dataframe looks like:\n",
            "   mean radius  mean texture  mean perimeter  mean area  mean smoothness  \\\n",
            "0        17.99         10.38          122.80     1001.0          0.11840   \n",
            "1        20.57         17.77          132.90     1326.0          0.08474   \n",
            "2        19.69         21.25          130.00     1203.0          0.10960   \n",
            "3        11.42         20.38           77.58      386.1          0.14250   \n",
            "4        20.29         14.34          135.10     1297.0          0.10030   \n",
            "\n",
            "   mean compactness  mean concavity  mean concave points  mean symmetry  \\\n",
            "0           0.27760          0.3001              0.14710         0.2419   \n",
            "1           0.07864          0.0869              0.07017         0.1812   \n",
            "2           0.15990          0.1974              0.12790         0.2069   \n",
            "3           0.28390          0.2414              0.10520         0.2597   \n",
            "4           0.13280          0.1980              0.10430         0.1809   \n",
            "\n",
            "   mean fractal dimension  ...  worst radius  worst texture  worst perimeter  \\\n",
            "0                 0.07871  ...         25.38          17.33           184.60   \n",
            "1                 0.05667  ...         24.99          23.41           158.80   \n",
            "2                 0.05999  ...         23.57          25.53           152.50   \n",
            "3                 0.09744  ...         14.91          26.50            98.87   \n",
            "4                 0.05883  ...         22.54          16.67           152.20   \n",
            "\n",
            "   worst area  worst smoothness  worst compactness  worst concavity  \\\n",
            "0      2019.0            0.1622             0.6656           0.7119   \n",
            "1      1956.0            0.1238             0.1866           0.2416   \n",
            "2      1709.0            0.1444             0.4245           0.4504   \n",
            "3       567.7            0.2098             0.8663           0.6869   \n",
            "4      1575.0            0.1374             0.2050           0.4000   \n",
            "\n",
            "   worst concave points  worst symmetry  worst fractal dimension  \n",
            "0                0.2654          0.4601                  0.11890  \n",
            "1                0.1860          0.2750                  0.08902  \n",
            "2                0.2430          0.3613                  0.08758  \n",
            "3                0.2575          0.6638                  0.17300  \n",
            "4                0.1625          0.2364                  0.07678  \n",
            "\n",
            "[5 rows x 30 columns]\n"
          ]
        }
      ]
    },
    {
      "cell_type": "code",
      "source": [
        "print('Target looks like:')\n",
        "print(df_target.head())"
      ],
      "metadata": {
        "colab": {
          "base_uri": "https://localhost:8080/"
        },
        "id": "BOU98jSYafbg",
        "outputId": "d5bdba18-3528-418f-e7f1-4b9f07480862"
      },
      "execution_count": null,
      "outputs": [
        {
          "output_type": "stream",
          "name": "stdout",
          "text": [
            "Target looks like:\n",
            "   Cancer\n",
            "0       0\n",
            "1       0\n",
            "2       0\n",
            "3       0\n",
            "4       0\n"
          ]
        }
      ]
    },
    {
      "cell_type": "code",
      "source": [
        "#Assignment"
      ],
      "metadata": {
        "id": "Y-JrBoljaq2g"
      },
      "execution_count": null,
      "outputs": []
    },
    {
      "cell_type": "code",
      "source": [
        "#Implement SVM with Default Hyperparameter"
      ],
      "metadata": {
        "id": "ffVw1TmibAGg"
      },
      "execution_count": null,
      "outputs": []
    },
    {
      "cell_type": "code",
      "source": [
        "X=cancer.data\n",
        "y=cancer.target"
      ],
      "metadata": {
        "id": "Z3yuGO_fas2t"
      },
      "execution_count": 3,
      "outputs": []
    },
    {
      "cell_type": "code",
      "source": [
        "from sklearn.model_selection import train_test_split\n",
        "X_train, X_test, y_train, y_test=train_test_split(X, y, test_size=0.3, stratify=y, random_state=42)"
      ],
      "metadata": {
        "id": "vZi-J8ama-nG"
      },
      "execution_count": 4,
      "outputs": []
    },
    {
      "cell_type": "code",
      "source": [
        "from sklearn.svm import SVC\n",
        "classifier=SVC(verbose=2, random_state=0)"
      ],
      "metadata": {
        "id": "UEFP0emhbdbs"
      },
      "execution_count": 5,
      "outputs": []
    },
    {
      "cell_type": "code",
      "source": [
        "classifier.fit(X_train, y_train)"
      ],
      "metadata": {
        "colab": {
          "base_uri": "https://localhost:8080/"
        },
        "id": "4xxsz1WKbnmP",
        "outputId": "11daa25b-f6f5-4624-8387-74ca06bee7a4"
      },
      "execution_count": 6,
      "outputs": [
        {
          "output_type": "stream",
          "name": "stdout",
          "text": [
            "[LibSVM]"
          ]
        },
        {
          "output_type": "execute_result",
          "data": {
            "text/plain": [
              "SVC(random_state=0, verbose=2)"
            ]
          },
          "metadata": {},
          "execution_count": 6
        }
      ]
    },
    {
      "cell_type": "code",
      "source": [
        "#Answer"
      ],
      "metadata": {
        "id": "5pITOydrgv1q"
      },
      "execution_count": null,
      "outputs": []
    },
    {
      "cell_type": "code",
      "source": [
        "from sklearn.metrics import accuracy_score\n",
        "y_pred=classifier.predict(X_test)\n",
        "print('Test accuracy:', accuracy_score(y_test, y_pred))"
      ],
      "metadata": {
        "colab": {
          "base_uri": "https://localhost:8080/"
        },
        "id": "zNP9W76LbsYT",
        "outputId": "b5dc356c-7ccd-4ab0-b4f5-a531d7be6dfa"
      },
      "execution_count": 7,
      "outputs": [
        {
          "output_type": "stream",
          "name": "stdout",
          "text": [
            "Test accuracy: 0.9064327485380117\n"
          ]
        }
      ]
    },
    {
      "cell_type": "code",
      "source": [
        "import pandas as pd\n",
        "import matplotlib.pyplot as plt\n",
        "import seaborn as sns\n",
        "from sklearn.metrics import confusion_matrix\n",
        "\n",
        "cmx=confusion_matrix(y_test, y_pred)\n",
        "df_cmx=pd.DataFrame(cmx, index=cancer.target_names, columns=cancer.target_names)\n",
        "sns.heatmap(df_cmx, annot=True, cbar=False, square=True, fmt='d')"
      ],
      "metadata": {
        "colab": {
          "base_uri": "https://localhost:8080/",
          "height": 283
        },
        "id": "WZubKjWbwPrb",
        "outputId": "a15d7ba1-d871-480c-a56d-2ec32524c86c"
      },
      "execution_count": 8,
      "outputs": [
        {
          "output_type": "execute_result",
          "data": {
            "text/plain": [
              "<matplotlib.axes._subplots.AxesSubplot at 0x7fc5711e62d0>"
            ]
          },
          "metadata": {},
          "execution_count": 8
        },
        {
          "output_type": "display_data",
          "data": {
            "text/plain": [
              "<Figure size 432x288 with 1 Axes>"
            ],
            "image/png": "[encoded data removed]"
          },
          "metadata": {
            "needs_background": "light"
          }
        }
      ]
    },
    {
      "cell_type": "code",
      "source": [
        "#Implement SVM with Tunned Hyperparameter"
      ],
      "metadata": {
        "id": "Wt_XAITGcAVZ"
      },
      "execution_count": null,
      "outputs": []
    },
    {
      "cell_type": "code",
      "source": [
        "X=cancer.data\n",
        "y=cancer.target"
      ],
      "metadata": {
        "id": "k2Kxuk9qcH2Y"
      },
      "execution_count": 9,
      "outputs": []
    },
    {
      "cell_type": "code",
      "source": [
        "from sklearn.model_selection import train_test_split\n",
        "X_train, X_test, y_train, y_test=train_test_split(X, y, test_size=0.3, stratify=y, random_state=42)"
      ],
      "metadata": {
        "id": "1R5MIHX-fITW"
      },
      "execution_count": 10,
      "outputs": []
    },
    {
      "cell_type": "code",
      "source": [
        "tuned_parameters=[{'kernel':['rbf'], 'gamma':[1e-3, 1e-4], 'C':[1, 10, 100, 1000]},\n",
        "                  {'kernel':['linear'], 'C':[1, 10, 100, 1000]},\n",
        "                  {'kernel':['poly'], 'degree':[1, 2, 3], 'C':[1, 10, 100, 1000]}]"
      ],
      "metadata": {
        "id": "9_g00bXMfKxP"
      },
      "execution_count": 11,
      "outputs": []
    },
    {
      "cell_type": "code",
      "source": [
        "from sklearn.model_selection import GridSearchCV\n",
        "\n",
        "grid=GridSearchCV(SVC(), tuned_parameters, refit=True, cv=3, verbose=2)\n",
        "grid.fit(X_train, y_train)"
      ],
      "metadata": {
        "colab": {
          "base_uri": "https://localhost:8080/"
        },
        "id": "Tjh_fvNnfbQN",
        "outputId": "db81457a-40d5-4743-cf9b-b136fa7648c9"
      },
      "execution_count": 12,
      "outputs": [
        {
          "output_type": "stream",
          "name": "stdout",
          "text": [
            "Fitting 3 folds for each of 24 candidates, totalling 72 fits\n",
            "[CV] END .......................C=1, gamma=0.001, kernel=rbf; total time=   0.0s\n",
            "[CV] END .......................C=1, gamma=0.001, kernel=rbf; total time=   0.0s\n",
            "[CV] END .......................C=1, gamma=0.001, kernel=rbf; total time=   0.0s\n",
            "[CV] END ......................C=1, gamma=0.0001, kernel=rbf; total time=   0.0s\n",
            "[CV] END ......................C=1, gamma=0.0001, kernel=rbf; total time=   0.0s\n",
            "[CV] END ......................C=1, gamma=0.0001, kernel=rbf; total time=   0.0s\n",
            "[CV] END ......................C=10, gamma=0.001, kernel=rbf; total time=   0.0s\n",
            "[CV] END ......................C=10, gamma=0.001, kernel=rbf; total time=   0.0s\n",
            "[CV] END ......................C=10, gamma=0.001, kernel=rbf; total time=   0.0s\n",
            "[CV] END .....................C=10, gamma=0.0001, kernel=rbf; total time=   0.0s\n",
            "[CV] END .....................C=10, gamma=0.0001, kernel=rbf; total time=   0.0s\n",
            "[CV] END .....................C=10, gamma=0.0001, kernel=rbf; total time=   0.0s\n",
            "[CV] END .....................C=100, gamma=0.001, kernel=rbf; total time=   0.0s\n",
            "[CV] END .....................C=100, gamma=0.001, kernel=rbf; total time=   0.0s\n",
            "[CV] END .....................C=100, gamma=0.001, kernel=rbf; total time=   0.0s\n",
            "[CV] END ....................C=100, gamma=0.0001, kernel=rbf; total time=   0.0s\n",
            "[CV] END ....................C=100, gamma=0.0001, kernel=rbf; total time=   0.0s\n",
            "[CV] END ....................C=100, gamma=0.0001, kernel=rbf; total time=   0.0s\n",
            "[CV] END ....................C=1000, gamma=0.001, kernel=rbf; total time=   0.0s\n",
            "[CV] END ....................C=1000, gamma=0.001, kernel=rbf; total time=   0.0s\n",
            "[CV] END ....................C=1000, gamma=0.001, kernel=rbf; total time=   0.0s\n",
            "[CV] END ...................C=1000, gamma=0.0001, kernel=rbf; total time=   0.0s\n",
            "[CV] END ...................C=1000, gamma=0.0001, kernel=rbf; total time=   0.0s\n",
            "[CV] END ...................C=1000, gamma=0.0001, kernel=rbf; total time=   0.0s\n",
            "[CV] END .................................C=1, kernel=linear; total time=   0.6s\n",
            "[CV] END .................................C=1, kernel=linear; total time=   0.9s\n",
            "[CV] END .................................C=1, kernel=linear; total time=   0.7s\n",
            "[CV] END ................................C=10, kernel=linear; total time=   3.6s\n",
            "[CV] END ................................C=10, kernel=linear; total time=   2.4s\n",
            "[CV] END ................................C=10, kernel=linear; total time=   1.9s\n",
            "[CV] END ...............................C=100, kernel=linear; total time=  20.5s\n",
            "[CV] END ...............................C=100, kernel=linear; total time=   2.9s\n",
            "[CV] END ...............................C=100, kernel=linear; total time=   4.8s\n",
            "[CV] END ..............................C=1000, kernel=linear; total time=  10.2s\n",
            "[CV] END ..............................C=1000, kernel=linear; total time=   5.4s\n",
            "[CV] END ..............................C=1000, kernel=linear; total time=   6.3s\n",
            "[CV] END .........................C=1, degree=1, kernel=poly; total time=   0.0s\n",
            "[CV] END .........................C=1, degree=1, kernel=poly; total time=   0.0s\n",
            "[CV] END .........................C=1, degree=1, kernel=poly; total time=   0.0s\n",
            "[CV] END .........................C=1, degree=2, kernel=poly; total time=   0.0s\n",
            "[CV] END .........................C=1, degree=2, kernel=poly; total time=   0.0s\n",
            "[CV] END .........................C=1, degree=2, kernel=poly; total time=   0.0s\n",
            "[CV] END .........................C=1, degree=3, kernel=poly; total time=   0.0s\n",
            "[CV] END .........................C=1, degree=3, kernel=poly; total time=   0.0s\n",
            "[CV] END .........................C=1, degree=3, kernel=poly; total time=   0.0s\n",
            "[CV] END ........................C=10, degree=1, kernel=poly; total time=   0.0s\n",
            "[CV] END ........................C=10, degree=1, kernel=poly; total time=   0.0s\n",
            "[CV] END ........................C=10, degree=1, kernel=poly; total time=   0.0s\n",
            "[CV] END ........................C=10, degree=2, kernel=poly; total time=   0.0s\n",
            "[CV] END ........................C=10, degree=2, kernel=poly; total time=   0.0s\n",
            "[CV] END ........................C=10, degree=2, kernel=poly; total time=   0.0s\n",
            "[CV] END ........................C=10, degree=3, kernel=poly; total time=   0.0s\n",
            "[CV] END ........................C=10, degree=3, kernel=poly; total time=   0.0s\n",
            "[CV] END ........................C=10, degree=3, kernel=poly; total time=   0.0s\n",
            "[CV] END .......................C=100, degree=1, kernel=poly; total time=   0.0s\n",
            "[CV] END .......................C=100, degree=1, kernel=poly; total time=   0.0s\n",
            "[CV] END .......................C=100, degree=1, kernel=poly; total time=   0.0s\n",
            "[CV] END .......................C=100, degree=2, kernel=poly; total time=   0.0s\n",
            "[CV] END .......................C=100, degree=2, kernel=poly; total time=   0.0s\n",
            "[CV] END .......................C=100, degree=2, kernel=poly; total time=   0.0s\n",
            "[CV] END .......................C=100, degree=3, kernel=poly; total time=   0.0s\n",
            "[CV] END .......................C=100, degree=3, kernel=poly; total time=   0.0s\n",
            "[CV] END .......................C=100, degree=3, kernel=poly; total time=   0.0s\n",
            "[CV] END ......................C=1000, degree=1, kernel=poly; total time=   0.0s\n",
            "[CV] END ......................C=1000, degree=1, kernel=poly; total time=   0.0s\n",
            "[CV] END ......................C=1000, degree=1, kernel=poly; total time=   0.0s\n",
            "[CV] END ......................C=1000, degree=2, kernel=poly; total time=   0.0s\n",
            "[CV] END ......................C=1000, degree=2, kernel=poly; total time=   0.0s\n",
            "[CV] END ......................C=1000, degree=2, kernel=poly; total time=   0.0s\n",
            "[CV] END ......................C=1000, degree=3, kernel=poly; total time=   0.0s\n",
            "[CV] END ......................C=1000, degree=3, kernel=poly; total time=   0.0s\n",
            "[CV] END ......................C=1000, degree=3, kernel=poly; total time=   0.0s\n"
          ]
        },
        {
          "output_type": "execute_result",
          "data": {
            "text/plain": [
              "GridSearchCV(cv=3, estimator=SVC(),\n",
              "             param_grid=[{'C': [1, 10, 100, 1000], 'gamma': [0.001, 0.0001],\n",
              "                          'kernel': ['rbf']},\n",
              "                         {'C': [1, 10, 100, 1000], 'kernel': ['linear']},\n",
              "                         {'C': [1, 10, 100, 1000], 'degree': [1, 2, 3],\n",
              "                          'kernel': ['poly']}],\n",
              "             verbose=2)"
            ]
          },
          "metadata": {},
          "execution_count": 12
        }
      ]
    },
    {
      "cell_type": "code",
      "source": [
        "print(grid.best_params_)\n",
        "print(grid.best_estimator_)"
      ],
      "metadata": {
        "colab": {
          "base_uri": "https://localhost:8080/"
        },
        "id": "shqXT-DYgCDf",
        "outputId": "fec86a24-7269-425f-bd14-206776a4751a"
      },
      "execution_count": 13,
      "outputs": [
        {
          "output_type": "stream",
          "name": "stdout",
          "text": [
            "{'C': 1, 'kernel': 'linear'}\n",
            "SVC(C=1, kernel='linear')\n"
          ]
        }
      ]
    },
    {
      "cell_type": "code",
      "source": [
        "#Answer"
      ],
      "metadata": {
        "id": "lBWr-Mmagjxq"
      },
      "execution_count": 14,
      "outputs": []
    },
    {
      "cell_type": "code",
      "source": [
        "from sklearn.metrics import accuracy_score\n",
        "\n",
        "y_pred=grid.predict(X_test)\n",
        "print('Test accuracy:', accuracy_score(y_test, y_pred))"
      ],
      "metadata": {
        "colab": {
          "base_uri": "https://localhost:8080/"
        },
        "id": "bu4yedzngK4I",
        "outputId": "291e8649-c96c-4dda-c6cb-feb624faa933"
      },
      "execution_count": 15,
      "outputs": [
        {
          "output_type": "stream",
          "name": "stdout",
          "text": [
            "Test accuracy: 0.9532163742690059\n"
          ]
        }
      ]
    },
    {
      "cell_type": "code",
      "source": [
        "import pandas as pd\n",
        "import matplotlib.pyplot as plt\n",
        "import seaborn as sns\n",
        "from sklearn.metrics import confusion_matrix\n",
        "\n",
        "cmx=confusion_matrix(y_test, y_pred)\n",
        "df_cmx=pd.DataFrame(cmx, index=cancer.target_names, columns=cancer.target_names)\n",
        "sns.heatmap(df_cmx, annot=True, cbar=False, square=True, fmt='d')"
      ],
      "metadata": {
        "colab": {
          "base_uri": "https://localhost:8080/",
          "height": 283
        },
        "outputId": "420856fa-8341-4a5c-ba68-7dc1dfd2691c",
        "id": "pPSpfDAdxBRe"
      },
      "execution_count": 16,
      "outputs": [
        {
          "output_type": "execute_result",
          "data": {
            "text/plain": [
              "<matplotlib.axes._subplots.AxesSubplot at 0x7fc56d992b50>"
            ]
          },
          "metadata": {},
          "execution_count": 16
        },
        {
          "output_type": "display_data",
          "data": {
            "text/plain": [
              "<Figure size 432x288 with 1 Axes>"
            ],
            "image/png": "[encoded data removed]"
          },
          "metadata": {
            "needs_background": "light"
          }
        }
      ]
    }
  ]
}